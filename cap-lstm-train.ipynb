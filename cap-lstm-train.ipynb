{
 "cells": [
  {
   "cell_type": "code",
   "execution_count": 2,
   "id": "initial_id",
   "metadata": {
    "collapsed": true,
    "ExecuteTime": {
     "end_time": "2024-05-14T12:08:37.380689700Z",
     "start_time": "2024-05-14T12:08:37.364691300Z"
    }
   },
   "outputs": [],
   "source": [
    "import torch\n",
    "import torch.nn as nn\n",
    "import torch.optim as optim\n",
    "from torch.utils.data import DataLoader\n",
    "\n",
    "import numpy as np\n",
    "from tqdm import tqdm\n",
    "\n",
    "from CAP import CAPModel\n",
    "from CAP.dataset import CAPDataSet\n",
    "from CAP.utils import *\n",
    "from typing import List, Tuple\n",
    "\n",
    "seed_everything(1813) # Seed 고정"
   ]
  },
  {
   "cell_type": "markdown",
   "id": "f3d0705d20ae19bf",
   "metadata": {
    "collapsed": false
   },
   "source": [
    "## Functions"
   ]
  },
  {
   "cell_type": "code",
   "execution_count": 3,
   "id": "b23e693cd1835aa5",
   "metadata": {
    "collapsed": false,
    "ExecuteTime": {
     "end_time": "2024-05-14T12:08:38.014200800Z",
     "start_time": "2024-05-14T12:08:37.998688400Z"
    }
   },
   "outputs": [],
   "source": [
    "def switch2dataset(text_list: List[str], class_numer: int) -> List[Tuple[str, int]]:\n",
    "    \"\"\"\n",
    "    Prepare dataset : Switch words list to dataset tuple \n",
    "    :param text_list: List of words\n",
    "    :param class_numer: Text class\n",
    "    :return: dataset tuple \n",
    "    \"\"\"\n",
    "    res = []\n",
    "    for text_ in text_list:\n",
    "        res.append((text_, class_numer))\n",
    "    return res"
   ]
  },
  {
   "cell_type": "code",
   "execution_count": 4,
   "id": "f0d919e5cb2a2c48",
   "metadata": {
    "collapsed": false,
    "ExecuteTime": {
     "end_time": "2024-05-14T12:08:38.530282400Z",
     "start_time": "2024-05-14T12:08:38.522282900Z"
    }
   },
   "outputs": [],
   "source": [
    "def split_list(l:list, test_size: float = 0.2) -> (List[Tuple[str, int]], List[Tuple[str, int]]):\n",
    "    \"\"\"\n",
    "    Split list with test_size \n",
    "    :param l: Dataset tuple list\n",
    "    :param test_size: size of the test dataset. Default = 0.2\n",
    "    :return: (train_dataset, test_dataset)\n",
    "    \"\"\"\n",
    "    return l[:int(len(l) * (1 - test_size))], l[int(len(l) * (1 - test_size)):]"
   ]
  },
  {
   "cell_type": "markdown",
   "id": "541601437787244b",
   "metadata": {
    "collapsed": false
   },
   "source": [
    "## Prepare data"
   ]
  },
  {
   "cell_type": "code",
   "execution_count": 5,
   "id": "28d60ce3227d0da2",
   "metadata": {
    "collapsed": false,
    "ExecuteTime": {
     "end_time": "2024-05-14T12:08:39.077950700Z",
     "start_time": "2024-05-14T12:08:39.069951300Z"
    }
   },
   "outputs": [],
   "source": [
    "DATA_COUNT = 30000"
   ]
  },
  {
   "cell_type": "code",
   "execution_count": 6,
   "id": "9ba1bd466f757b7c",
   "metadata": {
    "collapsed": false,
    "ExecuteTime": {
     "end_time": "2024-05-14T12:08:40.654699300Z",
     "start_time": "2024-05-14T12:08:39.374366900Z"
    }
   },
   "outputs": [],
   "source": [
    "normal_data = load_normal_word(DATA_COUNT, 3, 10, './data/normal/')\n",
    "hash_data = create_hash_text(normal_data, max_length=10)\n",
    "ipv4_data = create_ip_text(DATA_COUNT, 'ipv4', verbose=False)\n",
    "ipv6_data = create_ip_text(DATA_COUNT, 'ipv6', text_length_range=[3,4,5,6,7,8,9,10], verbose=False)\n",
    "mac_data = create_mac_text(DATA_COUNT, verbose=False)"
   ]
  },
  {
   "cell_type": "code",
   "execution_count": 7,
   "id": "d5ac5ef4a9c979e7",
   "metadata": {
    "collapsed": false,
    "ExecuteTime": {
     "end_time": "2024-05-14T12:08:40.686698500Z",
     "start_time": "2024-05-14T12:08:40.656697900Z"
    }
   },
   "outputs": [],
   "source": [
    "normal_data = switch2dataset(normal_data, 0)\n",
    "hash_data = switch2dataset(hash_data, 1)\n",
    "ipv4_data = switch2dataset(ipv4_data, 2)\n",
    "ipv6_data = switch2dataset(ipv6_data, 3)\n",
    "mac_data = switch2dataset(mac_data, 4)"
   ]
  },
  {
   "cell_type": "code",
   "execution_count": 8,
   "id": "66ca375572094a9a",
   "metadata": {
    "collapsed": false,
    "ExecuteTime": {
     "end_time": "2024-05-14T12:08:40.699698200Z",
     "start_time": "2024-05-14T12:08:40.686698500Z"
    }
   },
   "outputs": [],
   "source": [
    "normal_train, normal_val = split_list(normal_data)\n",
    "hash_train, hash_val = split_list(hash_data)\n",
    "ipv4_train, ipv4_val = split_list(ipv4_data)\n",
    "ipv6_train, ipv6_val = split_list(ipv6_data)\n",
    "mac_train, mac_val = split_list(mac_data)"
   ]
  },
  {
   "cell_type": "code",
   "execution_count": 9,
   "id": "261e9f46ef3820ea",
   "metadata": {
    "collapsed": false,
    "ExecuteTime": {
     "end_time": "2024-05-14T12:08:40.727212700Z",
     "start_time": "2024-05-14T12:08:40.700699400Z"
    }
   },
   "outputs": [],
   "source": [
    "train_data = normal_train + hash_train + ipv4_train + ipv6_train+ mac_train\n",
    "val_data = normal_val + hash_val + ipv4_val + ipv6_val +mac_val"
   ]
  },
  {
   "cell_type": "markdown",
   "id": "f891ddf5ac2ab239",
   "metadata": {
    "collapsed": false
   },
   "source": [
    "## Prepre Dataset"
   ]
  },
  {
   "cell_type": "code",
   "execution_count": 10,
   "id": "695ec83115d5d599",
   "metadata": {
    "collapsed": false,
    "ExecuteTime": {
     "end_time": "2024-05-14T12:08:41.548594800Z",
     "start_time": "2024-05-14T12:08:41.542596900Z"
    }
   },
   "outputs": [],
   "source": [
    "train_dataset = CAPDataSet(train_data, pad_size=30)\n",
    "val_dataset = CAPDataSet(val_data, pad_size=30)"
   ]
  },
  {
   "cell_type": "code",
   "execution_count": 11,
   "id": "856d2e926888acd5",
   "metadata": {
    "collapsed": false,
    "ExecuteTime": {
     "end_time": "2024-05-14T12:08:41.789593700Z",
     "start_time": "2024-05-14T12:08:41.780595700Z"
    }
   },
   "outputs": [],
   "source": [
    "train_loader = DataLoader(train_dataset, batch_size=512, num_workers=0, shuffle=True)\n",
    "val_loader = DataLoader(val_dataset, batch_size=512, num_workers=0, shuffle=True)"
   ]
  },
  {
   "cell_type": "markdown",
   "id": "b7dc5ad7c950a0a0",
   "metadata": {
    "collapsed": false
   },
   "source": [
    "## Define model"
   ]
  },
  {
   "cell_type": "code",
   "execution_count": 12,
   "id": "938a013c4c6e3dd8",
   "metadata": {
    "collapsed": false,
    "ExecuteTime": {
     "end_time": "2024-05-14T12:08:42.344855100Z",
     "start_time": "2024-05-14T12:08:42.214855500Z"
    }
   },
   "outputs": [],
   "source": [
    "model = CAPModel(71, 300, 500, 5, num_layers=6, bidirectional=True)\n",
    "\n",
    "criterion = nn.CrossEntropyLoss()\n",
    "optimizer = optim.Adam(model.parameters(), lr=0.0001)\n",
    "\n",
    "device = 'cuda' if torch.cuda.is_available() else 'cpu'\n",
    "n_epochs = 100\n",
    "SAVE_PATH = './weight/'"
   ]
  },
  {
   "cell_type": "markdown",
   "id": "ca79a29524408860",
   "metadata": {
    "collapsed": false
   },
   "source": [
    "## Train model"
   ]
  },
  {
   "cell_type": "code",
   "execution_count": null,
   "id": "68b5950b09b9ebe4",
   "metadata": {
    "collapsed": false
   },
   "outputs": [],
   "source": [
    "model.to(device)\n",
    "train_loss = torch.zeros(n_epochs)\n",
    "valid_loss = torch.zeros(n_epochs)\n",
    "\n",
    "train_acc = torch.zeros(n_epochs)\n",
    "valid_acc = torch.zeros(n_epochs)\n",
    "\n",
    "valid_loss_min = np.Inf\n",
    "past_lr = 0.0001\n",
    "low_epoch = 0\n",
    "\n",
    "model.to(device)\n",
    "\n",
    "for e in range(n_epochs):\n",
    "    print(f'\\n====================== [Epoch {e+1}] ======================')\n",
    "    model.train()\n",
    "    train_tq = tqdm(train_loader)\n",
    "    \n",
    "    count = 0\n",
    "    cnt = 0\n",
    "    for data, label in train_tq:\n",
    "        cnt += 1\n",
    "        data, label = data.to(device), label.to(device)\n",
    "        optimizer.zero_grad()\n",
    "        \n",
    "        output = model(data)\n",
    "        loss = criterion(output, label)\n",
    "        \n",
    "        train_acc[e] += sum(label.detach().cpu() == torch.argmax(output.softmax(dim=1), dim=1).detach().cpu())\n",
    "        count += len(label)\n",
    "        \n",
    "        loss.backward()\n",
    "        optimizer.step()\n",
    "        train_loss[e] += loss.item()\n",
    "        train_tq.set_description(f'Train_loss : {train_loss[e] / cnt}')\n",
    "        \n",
    "    train_loss[e] /= len(train_loader)\n",
    "    train_acc[e] /= count\n",
    "\n",
    "    model.eval()\n",
    "    count = 0\n",
    "    for data, label in tqdm(val_loader):\n",
    "        with torch.no_grad():\n",
    "            data, label = data.to(device), label.to(device)\n",
    "            \n",
    "            output = model(data)\n",
    "            loss = criterion(output, label)\n",
    "            \n",
    "            valid_acc[e] += sum(label.detach().cpu() == torch.argmax(output.softmax(dim=1), dim=1).detach().cpu())\n",
    "            count += len(label)\n",
    "            \n",
    "            valid_loss[e] += loss.item()\n",
    "            \n",
    "    valid_loss[e] /= len(val_loader)\n",
    "    valid_acc[e] /= count\n",
    "    \n",
    "    print('Epoch: {} \\tTraining Loss: {:.6f} \\tValidation Loss: {:.6f}'.format(e+1, train_loss[e], valid_loss[e]))\n",
    "    print('Epoch: {} \\tTraining Acc: {:.6f} \\tValidation Accuracy: {:.6f}'.format(e+1, train_acc[e], valid_acc[e]))\n",
    "    \n",
    "    if valid_loss_min > valid_loss[e]:\n",
    "        valid_loss_min = valid_loss[e]\n",
    "        print(f'Validation loss decreased at Epoch {e+1} - model saved')\n",
    "        low_epoch = e\n",
    "        torch.save(model.state_dict(), os.path.join(SAVE_PATH, 'cap-lstm.pth'))\n",
    "\n",
    "print(f'\\n============== Training Result ==============')\n",
    "print(f'Highest score : {valid_loss_min}')\n",
    "print(f'Highest epoch : Epoch {low_epoch+1}')"
   ]
  }
 ],
 "metadata": {
  "kernelspec": {
   "display_name": "Python 3",
   "language": "python",
   "name": "python3"
  },
  "language_info": {
   "codemirror_mode": {
    "name": "ipython",
    "version": 2
   },
   "file_extension": ".py",
   "mimetype": "text/x-python",
   "name": "python",
   "nbconvert_exporter": "python",
   "pygments_lexer": "ipython2",
   "version": "2.7.6"
  }
 },
 "nbformat": 4,
 "nbformat_minor": 5
}
