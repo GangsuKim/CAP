{
 "cells": [
  {
   "cell_type": "code",
   "execution_count": null,
   "id": "26f99349-71c7-48a9-976a-ac4017fd4d37",
   "metadata": {},
   "outputs": [],
   "source": [
    "from torch.utils.data import DataLoader, RandomSampler, SequentialSampler, TensorDataset\n",
    "\n",
    "import pandas as pd\n",
    "from sklearn.model_selection import train_test_split\n",
    "\n",
    "from transformers import BertTokenizer, BertForSequenceClassification\n",
    "from transformers import AdamW\n",
    "from tqdm.auto import tqdm\n",
    "\n",
    "from CAP.utils import *\n",
    "\n",
    "seed_everything(14759) # Fix seed"
   ]
  },
  {
   "cell_type": "markdown",
   "source": [
    "## Function"
   ],
   "metadata": {
    "collapsed": false
   },
   "id": "3ea04b4c2ede6b39"
  },
  {
   "cell_type": "code",
   "execution_count": null,
   "outputs": [],
   "source": [
    "def preprocess_data(dataframe, tokenizer, max_len=64):\n",
    "    input_ids = []\n",
    "    attention_masks = []\n",
    "    labels = []\n",
    "\n",
    "    for _, row in dataframe.iterrows():\n",
    "        encoded = tokenizer.encode_plus(\n",
    "            str(row['label'].upper()),\n",
    "            add_special_tokens=True,\n",
    "            max_length=max_len,\n",
    "            pad_to_max_length=True,\n",
    "            return_attention_mask=True,\n",
    "            return_tensors='pt',\n",
    "            truncation=True\n",
    "        )\n",
    "        input_ids.append(encoded['input_ids'])\n",
    "        attention_masks.append(encoded['attention_mask'])\n",
    "        labels.append(int(row['class']))\n",
    "\n",
    "    input_ids = torch.cat(input_ids, dim=0)\n",
    "    attention_masks = torch.cat(attention_masks, dim=0)\n",
    "    labels = torch.tensor(labels)\n",
    "\n",
    "    return TensorDataset(input_ids, attention_masks, labels)"
   ],
   "metadata": {
    "collapsed": false
   },
   "id": "b4a4c6df68be483e"
  },
  {
   "cell_type": "markdown",
   "id": "1928734b-6713-452b-b19d-1839d6e54c8f",
   "metadata": {},
   "source": [
    "## Prepare data"
   ]
  },
  {
   "cell_type": "code",
   "execution_count": null,
   "outputs": [],
   "source": [
    "DATA_COUNT = 30000"
   ],
   "metadata": {
    "collapsed": false
   },
   "id": "3d129e16717f1e8e"
  },
  {
   "cell_type": "code",
   "execution_count": null,
   "outputs": [],
   "source": [
    "data = load_normal_word(DATA_COUNT, 3, 10, './data/normal/')\n",
    "data += create_hash_text(data, max_length=10)\n",
    "data += create_ip_text(DATA_COUNT, 'ipv4', verbose=False)\n",
    "data += create_ip_text(DATA_COUNT, 'ipv6', text_length_range=[3,4,5,6,7,8,9,10], verbose=False)\n",
    "data += create_mac_text(DATA_COUNT, verbose=False)"
   ],
   "metadata": {
    "collapsed": false
   },
   "id": "dcc5a41fd7d320be"
  },
  {
   "cell_type": "code",
   "execution_count": null,
   "outputs": [],
   "source": [
    "data_dict = {'label':data, 'class':[]}\n",
    "\n",
    "for i in range(5):\n",
    "    data_dict['class'] += [i for _ in range(DATA_COUNT)]\n",
    "    \n",
    "df = pd.DataFrame(data_dict)"
   ],
   "metadata": {
    "collapsed": false
   },
   "id": "3ae91510e424c7e4"
  },
  {
   "cell_type": "code",
   "execution_count": null,
   "id": "002c58bb-683b-4994-a3d1-35e791a85572",
   "metadata": {},
   "outputs": [],
   "source": [
    "tokenizer = BertTokenizer.from_pretrained('bert-base-cased')\n",
    "\n",
    "train_df, val_df = train_test_split(df, test_size=0.1, shuffle=True)\n",
    "train_dataset = preprocess_data(train_df, tokenizer)\n",
    "val_dataset = preprocess_data(val_df, tokenizer)\n",
    "batch_size = 128\n",
    "\n",
    "train_dataloader = DataLoader(\n",
    "        train_dataset,\n",
    "        sampler=RandomSampler(train_dataset),\n",
    "        batch_size=batch_size\n",
    "    )\n",
    "    \n",
    "validation_dataloader = DataLoader(\n",
    "    val_dataset,\n",
    "    sampler=SequentialSampler(val_dataset),\n",
    "    batch_size=batch_size\n",
    ")"
   ]
  },
  {
   "cell_type": "markdown",
   "id": "3fbb476c-f3c8-4605-a660-6e14e843507b",
   "metadata": {},
   "source": [
    "## Define model"
   ]
  },
  {
   "cell_type": "code",
   "execution_count": null,
   "id": "bf453dac-d9bf-4d91-ae7a-4adef443aa0a",
   "metadata": {},
   "outputs": [],
   "source": [
    "device = 'cuda' if torch.cuda.is_available() else 'cpu'\n",
    "model = BertForSequenceClassification.from_pretrained('bert-base-cased', num_labels=5).to(device)"
   ]
  },
  {
   "cell_type": "markdown",
   "id": "b7744d02-e42e-4471-8fd4-2b86c88b2929",
   "metadata": {},
   "source": [
    "## Train model"
   ]
  },
  {
   "cell_type": "code",
   "execution_count": null,
   "outputs": [],
   "source": [
    "optimizer = AdamW(model.parameters(), lr=1e-4)\n",
    "num_epochs = 30\n",
    "stop=3\n",
    "early=0"
   ],
   "metadata": {
    "collapsed": false
   },
   "id": "400083995bfeedc1"
  },
  {
   "cell_type": "code",
   "execution_count": null,
   "id": "579f8868-b887-465d-938a-78ba482c6ce5",
   "metadata": {},
   "outputs": [],
   "source": [
    "best_val_loss = float('inf')\n",
    "\n",
    "for epoch in range(num_epochs):\n",
    "    model.train()\n",
    "    total_train_loss = 0\n",
    "    train_progress_bar = tqdm(train_dataloader, desc=f\"Training Epoch {epoch + 1}\")\n",
    "    for batch in train_progress_bar:\n",
    "        batch = tuple(t.to(device) for t in batch)\n",
    "        b_input_ids, b_input_mask, b_labels = batch\n",
    "        \n",
    "        optimizer.zero_grad()\n",
    "        \n",
    "        outputs = model(b_input_ids, \n",
    "                        token_type_ids=None, \n",
    "                        attention_mask=b_input_mask, \n",
    "                        labels=b_labels)\n",
    "        loss = outputs.loss\n",
    "        total_train_loss += loss.item()\n",
    "        \n",
    "        loss.backward()\n",
    "        optimizer.step()\n",
    "        \n",
    "        train_progress_bar.set_postfix({'avg_train_loss': total_train_loss / (train_progress_bar.last_print_n + 1)})\n",
    "    \n",
    "    avg_train_loss = total_train_loss / len(train_dataloader)\n",
    "    print(f\"\\nAverage training loss for epoch {epoch + 1}: {avg_train_loss}\")\n",
    "\n",
    "    # 검증 단계\n",
    "    model.eval()\n",
    "    total_eval_loss = 0\n",
    "    total_eval_accuracy = 0\n",
    "    eval_progress_bar = tqdm(validation_dataloader, desc=f\"Validation Epoch {epoch + 1}\")\n",
    "    for batch in eval_progress_bar:\n",
    "        batch = tuple(t.to(device) for t in batch)\n",
    "        b_input_ids, b_input_mask, b_labels = batch\n",
    "        \n",
    "        with torch.no_grad():\n",
    "            outputs = model(b_input_ids,\n",
    "                            token_type_ids=None,\n",
    "                            attention_mask=b_input_mask,\n",
    "                            labels=b_labels)\n",
    "            loss = outputs.loss\n",
    "            logits = outputs.logits\n",
    "            total_eval_loss += loss.item()\n",
    "        \n",
    "        preds = torch.argmax(logits, dim=1)\n",
    "        correct_predictions = torch.sum(preds == b_labels)\n",
    "        total_eval_accuracy += correct_predictions.item()\n",
    "        \n",
    "        eval_progress_bar.set_postfix({'avg_val_loss': total_eval_loss / (eval_progress_bar.last_print_n + 1),\n",
    "                                        'val_accuracy': total_eval_accuracy / ((eval_progress_bar.last_print_n + 1) * batch[0].size(0))})\n",
    "    \n",
    "    avg_eval_loss = total_eval_loss / len(validation_dataloader)\n",
    "    avg_eval_accuracy = total_eval_accuracy / len(validation_dataloader.dataset)\n",
    "    print(f\"\\nAverage validation loss for epoch {epoch + 1}: {avg_eval_loss}\")\n",
    "    print(f\"Validation accuracy for epoch {epoch + 1}: {avg_eval_accuracy}\")\n",
    "\n",
    "    # Save model at best validation loss\n",
    "    if avg_eval_loss < best_val_loss:\n",
    "        best_val_loss = avg_eval_loss\n",
    "        torch.save(model.state_dict(), f'./CAP_result/MAERec-S_{avg_eval_loss}_{avg_eval_accuracy}.pth')\n",
    "        print(f\"Model saved: epoch {epoch+1}, val_loss {avg_eval_loss:.4f}\")\n",
    "    \n",
    "    else:\n",
    "        if stop==early:\n",
    "            break\n",
    "        early+=1\n",
    "        \n",
    "print(\"Training and validation complete!\")"
   ]
  }
 ],
 "metadata": {
  "kernelspec": {
   "display_name": "Python 3 (ipykernel)",
   "language": "python",
   "name": "python3"
  },
  "language_info": {
   "codemirror_mode": {
    "name": "ipython",
    "version": 3
   },
   "file_extension": ".py",
   "mimetype": "text/x-python",
   "name": "python",
   "nbconvert_exporter": "python",
   "pygments_lexer": "ipython3",
   "version": "3.7.16"
  }
 },
 "nbformat": 4,
 "nbformat_minor": 5
}
